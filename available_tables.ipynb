{
 "cells": [
  {
   "cell_type": "code",
   "execution_count": null,
   "metadata": {},
   "outputs": [],
   "source": [
    "# List of companies\n",
    "# 0C000008MR, 0C00000AXM, 0C00000BUG, 0C000007R3, 0C000009JZ\n",
    "\n",
    "# SHARECLASS\n",
    "# 0P0000A5G3, 0P00006WAE, 0P000002H5, 0P00007O7R, 0P000003PC\n",
    "\n",
    "# Need to install 'pyathena' in current docker image"
   ]
  },
  {
   "cell_type": "markdown",
   "metadata": {},
   "source": [
    "## 1. User Inputs"
   ]
  },
  {
   "cell_type": "code",
   "execution_count": 1,
   "metadata": {},
   "outputs": [],
   "source": [
    "# user_shareclassid = ['0P0000A5G3', '0P00007O7R', '0P000003PC']\n",
    "user_input = ['0C00000CSM', '0P00006WAE', 'US38141G1040', 'MS', 2444123] #[companyid, shareclassid, isin, symbol, seedol]\n",
    "user_start_date = '2002-05-06'\n",
    "user_end_date = '2007-05-07'\n",
    "\n",
    "dates = (user_start_date, user_end_date)"
   ]
  },
  {
   "cell_type": "code",
   "execution_count": 2,
   "metadata": {},
   "outputs": [],
   "source": [
    "import os\n",
    "from pyspark.sql import SparkSession\n",
    "import pyathena\n",
    "import pyspark.sql.functions as F\n",
    "import pandas as pd\n",
    "pd.set_option('display.max_columns', 100)"
   ]
  },
  {
   "cell_type": "code",
   "execution_count": 3,
   "metadata": {},
   "outputs": [],
   "source": [
    "spark=SparkSession.builder.master('local').\\\n",
    "        appName('Raw_data_analysis').\\\n",
    "        config('spark.driver.memory','20G').\\\n",
    "        config(\"spark.executor.memory\",\"5gb\").\\\n",
    "        config(\"spark.cores.max\",\"6\").getOrCreate()"
   ]
  },
  {
   "cell_type": "code",
   "execution_count": 4,
   "metadata": {},
   "outputs": [
    {
     "name": "stdout",
     "output_type": "stream",
     "text": [
      "Morningstar Domain Username (root): schava3\n",
      "Federating through ADFS Prod using script version 2.0.5\n",
      "Username: schava3@morningstar.com\n",
      "Region: us-east-1\n",
      "Profile: default\n",
      "Keyring: OS error: No module named 'keyring'\n",
      "········\n",
      "Please choose the role you would like to assume:\n",
      "0) quant-non-prod-operator (809853243180)\n",
      "1) quant-prod-readonly (763485997594)\n",
      "2) apg-non-prod-operator (957772357715)\n",
      "3) bit-non-prod-dev-general (309603612345)\n",
      "4) bit-prod-production (156286860437)\n",
      "5) bit-prod-uat (156286860437)\n",
      "Role Integer eg. 0,1,2,all: 0\n",
      "----------------------------------------------------------------\n",
      "Keys saved under profile: [ default ] \n",
      "Keys File: /root/.aws/credentials\n",
      "Sessions Expiration: 2020-09-28 23:44:34+00:00. (12 hour)\n",
      "After this time, you may safely rerun this script to refresh your access key pair.\n",
      "To use this credential, create an AWS sessionin the CLI using the profile name default\n",
      "Examples:\n",
      "  Boto3: session = boto3.session.Session(profile_name='default')\n",
      "  AWScli: $ aws --profile default s3 ls s3://\n",
      "----------------------------------------------------------------\n",
      "SAML Token info: \n",
      "profile = default\n",
      "role_arn = arn:aws:iam::809853243180:role/mstar-quant-non-prod-operator\n",
      "----------------------------------------------------------------\n"
     ]
    },
    {
     "name": "stderr",
     "output_type": "stream",
     "text": [
      "/Morningstar/amazon_adfs/aws-sts-forms-v2.py:46: DeprecationWarning: This method will be removed in future versions.  Use 'parser.read_file()' instead.\n",
      "  config.readfp(open(filename))\n"
     ]
    }
   ],
   "source": [
    "%run /Morningstar/amazon_adfs/aws-sts-forms-v2.py"
   ]
  },
  {
   "cell_type": "markdown",
   "metadata": {},
   "source": [
    "## 2. Settings for connecting to athena database"
   ]
  },
  {
   "cell_type": "code",
   "execution_count": 5,
   "metadata": {
    "scrolled": false
   },
   "outputs": [],
   "source": [
    "db_name = 'rm_2020_08_18_prod_glb_eq_usd_fof'\n",
    "\n",
    "conn = pyathena.connect(s3_staging_dir='s3://risk-model-2.0-temp', region_name='us-east-1')\n",
    "\n",
    "timeindex_query = pd.read_sql(f\"\"\"select timeindex from {db_name}.riskmodel__timeindex where \\\n",
    "            modeldate between date '{user_start_date}' and date '{user_end_date}' order by timeindex\"\"\", conn)\n",
    "\n",
    "ti = [timeindex_query['timeindex'].iloc[0], timeindex_query['timeindex'].iloc[-1]]"
   ]
  },
  {
   "cell_type": "markdown",
   "metadata": {},
   "source": [
    "## 3. Generating collection of Sec identifiers"
   ]
  },
  {
   "cell_type": "code",
   "execution_count": 13,
   "metadata": {},
   "outputs": [],
   "source": [
    "company_info = pd.DataFrame()\n",
    "\n",
    "for i in user_input:\n",
    "    \n",
    "    temp_df = pd.read_sql(f\"\"\"SELECT DISTINCT companyid,\\\n",
    "         shareclassid,\\\n",
    "         symbol,\\\n",
    "         isin,\\\n",
    "         sedol,\\\n",
    "         cusip,\\\n",
    "         fullname \\\n",
    "FROM dl_rdb_operationdata.shareclassoperation \\\n",
    "WHERE ('{i}') IN (companyid, shareclassid, symbol, isin, sedol, cusip, fullname)\"\"\", conn) \n",
    "    company_info = company_info.append(temp_df)\n",
    "\n",
    "company_info = company_info.reset_index(drop=True)"
   ]
  },
  {
   "cell_type": "code",
   "execution_count": null,
   "metadata": {
    "scrolled": false
   },
   "outputs": [],
   "source": [
    "# r_securityid_query=pd.read_sql(\"select * from {}.riskmodel__security_map where shareclassid in \\\n",
    "#                                ({})\".format(db_name, \",\".join(\"'{0}'\".format(i) for i in user_shareclassid)), conn)"
   ]
  },
  {
   "cell_type": "code",
   "execution_count": 14,
   "metadata": {},
   "outputs": [],
   "source": [
    "user_secid = list(company_info['companyid'].unique())\n",
    "user_shareclassid = list(company_info['shareclassid'].unique())"
   ]
  },
  {
   "cell_type": "code",
   "execution_count": 15,
   "metadata": {},
   "outputs": [],
   "source": [
    "import glob\n",
    "files = glob.glob(\"/Morningstar/audit_trail/list_of_tables/*\")\n",
    "for f in files:\n",
    "    os.remove(f)"
   ]
  },
  {
   "cell_type": "markdown",
   "metadata": {},
   "source": [
    "## 3. Final filters of user input "
   ]
  },
  {
   "cell_type": "code",
   "execution_count": 18,
   "metadata": {
    "scrolled": false
   },
   "outputs": [
    {
     "name": "stdout",
     "output_type": "stream",
     "text": [
      "> \u001b[0;32m<ipython-input-18-5a7fd23bc2bc>\u001b[0m(28)\u001b[0;36m<module>\u001b[0;34m()\u001b[0m\n",
      "\u001b[0;32m     25 \u001b[0;31m\u001b[0;34m\u001b[0m\u001b[0m\n",
      "\u001b[0m\u001b[0;32m     26 \u001b[0;31m            \u001b[0;32mimport\u001b[0m \u001b[0mpdb\u001b[0m\u001b[0;34m;\u001b[0m \u001b[0mpdb\u001b[0m\u001b[0;34m.\u001b[0m\u001b[0mset_trace\u001b[0m\u001b[0;34m(\u001b[0m\u001b[0;34m)\u001b[0m\u001b[0;34m\u001b[0m\u001b[0;34m\u001b[0m\u001b[0m\n",
      "\u001b[0m\u001b[0;32m     27 \u001b[0;31m\u001b[0;34m\u001b[0m\u001b[0m\n",
      "\u001b[0m\u001b[0;32m---> 28 \u001b[0;31m            \u001b[0mfinal_data\u001b[0m\u001b[0;34m.\u001b[0m\u001b[0mtoPandas\u001b[0m\u001b[0;34m(\u001b[0m\u001b[0;34m)\u001b[0m\u001b[0;34m.\u001b[0m\u001b[0mto_csv\u001b[0m\u001b[0;34m(\u001b[0m\u001b[0;34m\"/Morningstar/audit_trail/list_of_tables/{0}.csv\"\u001b[0m\u001b[0;34m.\u001b[0m\u001b[0mformat\u001b[0m\u001b[0;34m(\u001b[0m\u001b[0mname\u001b[0m\u001b[0;34m)\u001b[0m\u001b[0;34m,\u001b[0m \u001b[0mindex\u001b[0m\u001b[0;34m=\u001b[0m\u001b[0;32mFalse\u001b[0m\u001b[0;34m)\u001b[0m\u001b[0;34m\u001b[0m\u001b[0;34m\u001b[0m\u001b[0m\n",
      "\u001b[0m\u001b[0;32m     29 \u001b[0;31m\u001b[0;34m\u001b[0m\u001b[0m\n",
      "\u001b[0m\n",
      "ipdb> final_data\n",
      "DataFrame[R_SECURITYID: string, R_SECURITY_TYPE: string, TIMEINDEX: bigint, quantitative_valuation: double]\n",
      "ipdb> q\n"
     ]
    },
    {
     "ename": "BdbQuit",
     "evalue": "",
     "output_type": "error",
     "traceback": [
      "\u001b[0;31m---------------------------------------------------------------------------\u001b[0m",
      "\u001b[0;31mBdbQuit\u001b[0m                                   Traceback (most recent call last)",
      "\u001b[0;32m<ipython-input-18-5a7fd23bc2bc>\u001b[0m in \u001b[0;36m<module>\u001b[0;34m\u001b[0m\n\u001b[1;32m     26\u001b[0m             \u001b[0;32mimport\u001b[0m \u001b[0mpdb\u001b[0m\u001b[0;34m;\u001b[0m \u001b[0mpdb\u001b[0m\u001b[0;34m.\u001b[0m\u001b[0mset_trace\u001b[0m\u001b[0;34m(\u001b[0m\u001b[0;34m)\u001b[0m\u001b[0;34m\u001b[0m\u001b[0;34m\u001b[0m\u001b[0m\n\u001b[1;32m     27\u001b[0m \u001b[0;34m\u001b[0m\u001b[0m\n\u001b[0;32m---> 28\u001b[0;31m             \u001b[0mfinal_data\u001b[0m\u001b[0;34m.\u001b[0m\u001b[0mtoPandas\u001b[0m\u001b[0;34m(\u001b[0m\u001b[0;34m)\u001b[0m\u001b[0;34m.\u001b[0m\u001b[0mto_csv\u001b[0m\u001b[0;34m(\u001b[0m\u001b[0;34m\"/Morningstar/audit_trail/list_of_tables/{0}.csv\"\u001b[0m\u001b[0;34m.\u001b[0m\u001b[0mformat\u001b[0m\u001b[0;34m(\u001b[0m\u001b[0mname\u001b[0m\u001b[0;34m)\u001b[0m\u001b[0;34m,\u001b[0m \u001b[0mindex\u001b[0m\u001b[0;34m=\u001b[0m\u001b[0;32mFalse\u001b[0m\u001b[0;34m)\u001b[0m\u001b[0;34m\u001b[0m\u001b[0;34m\u001b[0m\u001b[0m\n\u001b[0m\u001b[1;32m     29\u001b[0m \u001b[0;34m\u001b[0m\u001b[0m\n",
      "\u001b[0;32m<ipython-input-18-5a7fd23bc2bc>\u001b[0m in \u001b[0;36m<module>\u001b[0;34m\u001b[0m\n\u001b[1;32m     26\u001b[0m             \u001b[0;32mimport\u001b[0m \u001b[0mpdb\u001b[0m\u001b[0;34m;\u001b[0m \u001b[0mpdb\u001b[0m\u001b[0;34m.\u001b[0m\u001b[0mset_trace\u001b[0m\u001b[0;34m(\u001b[0m\u001b[0;34m)\u001b[0m\u001b[0;34m\u001b[0m\u001b[0;34m\u001b[0m\u001b[0m\n\u001b[1;32m     27\u001b[0m \u001b[0;34m\u001b[0m\u001b[0m\n\u001b[0;32m---> 28\u001b[0;31m             \u001b[0mfinal_data\u001b[0m\u001b[0;34m.\u001b[0m\u001b[0mtoPandas\u001b[0m\u001b[0;34m(\u001b[0m\u001b[0;34m)\u001b[0m\u001b[0;34m.\u001b[0m\u001b[0mto_csv\u001b[0m\u001b[0;34m(\u001b[0m\u001b[0;34m\"/Morningstar/audit_trail/list_of_tables/{0}.csv\"\u001b[0m\u001b[0;34m.\u001b[0m\u001b[0mformat\u001b[0m\u001b[0;34m(\u001b[0m\u001b[0mname\u001b[0m\u001b[0;34m)\u001b[0m\u001b[0;34m,\u001b[0m \u001b[0mindex\u001b[0m\u001b[0;34m=\u001b[0m\u001b[0;32mFalse\u001b[0m\u001b[0;34m)\u001b[0m\u001b[0;34m\u001b[0m\u001b[0;34m\u001b[0m\u001b[0m\n\u001b[0m\u001b[1;32m     29\u001b[0m \u001b[0;34m\u001b[0m\u001b[0m\n",
      "\u001b[0;32m/home/miniconda3/envs/risk-model-venv/lib/python3.6/bdb.py\u001b[0m in \u001b[0;36mtrace_dispatch\u001b[0;34m(self, frame, event, arg)\u001b[0m\n\u001b[1;32m     49\u001b[0m             \u001b[0;32mreturn\u001b[0m \u001b[0;31m# None\u001b[0m\u001b[0;34m\u001b[0m\u001b[0;34m\u001b[0m\u001b[0m\n\u001b[1;32m     50\u001b[0m         \u001b[0;32mif\u001b[0m \u001b[0mevent\u001b[0m \u001b[0;34m==\u001b[0m \u001b[0;34m'line'\u001b[0m\u001b[0;34m:\u001b[0m\u001b[0;34m\u001b[0m\u001b[0;34m\u001b[0m\u001b[0m\n\u001b[0;32m---> 51\u001b[0;31m             \u001b[0;32mreturn\u001b[0m \u001b[0mself\u001b[0m\u001b[0;34m.\u001b[0m\u001b[0mdispatch_line\u001b[0m\u001b[0;34m(\u001b[0m\u001b[0mframe\u001b[0m\u001b[0;34m)\u001b[0m\u001b[0;34m\u001b[0m\u001b[0;34m\u001b[0m\u001b[0m\n\u001b[0m\u001b[1;32m     52\u001b[0m         \u001b[0;32mif\u001b[0m \u001b[0mevent\u001b[0m \u001b[0;34m==\u001b[0m \u001b[0;34m'call'\u001b[0m\u001b[0;34m:\u001b[0m\u001b[0;34m\u001b[0m\u001b[0;34m\u001b[0m\u001b[0m\n\u001b[1;32m     53\u001b[0m             \u001b[0;32mreturn\u001b[0m \u001b[0mself\u001b[0m\u001b[0;34m.\u001b[0m\u001b[0mdispatch_call\u001b[0m\u001b[0;34m(\u001b[0m\u001b[0mframe\u001b[0m\u001b[0;34m,\u001b[0m \u001b[0marg\u001b[0m\u001b[0;34m)\u001b[0m\u001b[0;34m\u001b[0m\u001b[0;34m\u001b[0m\u001b[0m\n",
      "\u001b[0;32m/home/miniconda3/envs/risk-model-venv/lib/python3.6/bdb.py\u001b[0m in \u001b[0;36mdispatch_line\u001b[0;34m(self, frame)\u001b[0m\n\u001b[1;32m     68\u001b[0m         \u001b[0;32mif\u001b[0m \u001b[0mself\u001b[0m\u001b[0;34m.\u001b[0m\u001b[0mstop_here\u001b[0m\u001b[0;34m(\u001b[0m\u001b[0mframe\u001b[0m\u001b[0;34m)\u001b[0m \u001b[0;32mor\u001b[0m \u001b[0mself\u001b[0m\u001b[0;34m.\u001b[0m\u001b[0mbreak_here\u001b[0m\u001b[0;34m(\u001b[0m\u001b[0mframe\u001b[0m\u001b[0;34m)\u001b[0m\u001b[0;34m:\u001b[0m\u001b[0;34m\u001b[0m\u001b[0;34m\u001b[0m\u001b[0m\n\u001b[1;32m     69\u001b[0m             \u001b[0mself\u001b[0m\u001b[0;34m.\u001b[0m\u001b[0muser_line\u001b[0m\u001b[0;34m(\u001b[0m\u001b[0mframe\u001b[0m\u001b[0;34m)\u001b[0m\u001b[0;34m\u001b[0m\u001b[0;34m\u001b[0m\u001b[0m\n\u001b[0;32m---> 70\u001b[0;31m             \u001b[0;32mif\u001b[0m \u001b[0mself\u001b[0m\u001b[0;34m.\u001b[0m\u001b[0mquitting\u001b[0m\u001b[0;34m:\u001b[0m \u001b[0;32mraise\u001b[0m \u001b[0mBdbQuit\u001b[0m\u001b[0;34m\u001b[0m\u001b[0;34m\u001b[0m\u001b[0m\n\u001b[0m\u001b[1;32m     71\u001b[0m         \u001b[0;32mreturn\u001b[0m \u001b[0mself\u001b[0m\u001b[0;34m.\u001b[0m\u001b[0mtrace_dispatch\u001b[0m\u001b[0;34m\u001b[0m\u001b[0;34m\u001b[0m\u001b[0m\n\u001b[1;32m     72\u001b[0m \u001b[0;34m\u001b[0m\u001b[0m\n",
      "\u001b[0;31mBdbQuit\u001b[0m: "
     ]
    }
   ],
   "source": [
    "for root, dirs, files in os.walk(\"/Morningstar/risk-model-data/tmp/fakemodelid/\", topdown=False):\n",
    "    for name in dirs:\n",
    "        if name not in ['buildpremia', 'etl']:\n",
    "            raw_spark_df = spark.read.parquet(os.path.join(root, name))\n",
    "            \n",
    "            if 'SHARECLASSID' in raw_spark_df.columns:\n",
    "\n",
    "                filter_company = raw_spark_df.filter((F.col('SHARECLASSID').isin(user_shareclassid)))\n",
    "                \n",
    "            elif 'R_SECURITYID' in raw_spark_df.columns:\n",
    "                \n",
    "                filter_company = raw_spark_df.filter(F.col('R_SECURITYID').isin(user_secid))\n",
    "                \n",
    "            if 'EFFECTIVEDATE' in filter_company.columns:\n",
    "\n",
    "                filter_dates = filter_company.where(F.col('EFFECTIVEDATE').between(*dates))\n",
    "\n",
    "                final_data = filter_dates.sort(F.col('EFFECTIVEDATE'), ascending=False)\n",
    "\n",
    "            elif 'TIMEINDEX' in filter_company.columns:\n",
    "                \n",
    "                filter_dates = filter_company.filter((F.col('TIMEINDEX') >= int(ti[0])) & (F.col('TIMEINDEX') <= int(ti[1])))\n",
    "\n",
    "                final_data = filter_dates.sort(F.col('TIMEINDEX'), ascending=False)\n",
    "            \n",
    "            import pdb; pdb.set_trace()\n",
    "            \n",
    "            final_data.toPandas().to_csv(\"/Morningstar/audit_trail/list_of_tables/{0}.csv\".format(name), index=False)\n",
    "            "
   ]
  }
 ],
 "metadata": {
  "kernelspec": {
   "display_name": "Python 3",
   "language": "python",
   "name": "python3"
  },
  "language_info": {
   "codemirror_mode": {
    "name": "ipython",
    "version": 3
   },
   "file_extension": ".py",
   "mimetype": "text/x-python",
   "name": "python",
   "nbconvert_exporter": "python",
   "pygments_lexer": "ipython3",
   "version": "3.6.10"
  }
 },
 "nbformat": 4,
 "nbformat_minor": 4
}
